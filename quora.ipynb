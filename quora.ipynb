{
 "cells": [
  {
   "cell_type": "code",
   "execution_count": 76,
   "metadata": {
    "collapsed": true
   },
   "outputs": [],
   "source": [
    "import numpy as np\n",
    "import pandas as pd\n",
    "import seaborn as sns\n",
    "import matplotlib.pyplot as plt\n",
    "from collections import Counter"
   ]
  },
  {
   "cell_type": "code",
   "execution_count": 3,
   "metadata": {},
   "outputs": [
    {
     "data": {
      "text/html": [
       "<div>\n",
       "<style>\n",
       "    .dataframe thead tr:only-child th {\n",
       "        text-align: right;\n",
       "    }\n",
       "\n",
       "    .dataframe thead th {\n",
       "        text-align: left;\n",
       "    }\n",
       "\n",
       "    .dataframe tbody tr th {\n",
       "        vertical-align: top;\n",
       "    }\n",
       "</style>\n",
       "<table border=\"1\" class=\"dataframe\">\n",
       "  <thead>\n",
       "    <tr style=\"text-align: right;\">\n",
       "      <th></th>\n",
       "      <th>id</th>\n",
       "      <th>qid1</th>\n",
       "      <th>qid2</th>\n",
       "      <th>question1</th>\n",
       "      <th>question2</th>\n",
       "      <th>is_duplicate</th>\n",
       "    </tr>\n",
       "  </thead>\n",
       "  <tbody>\n",
       "    <tr>\n",
       "      <th>0</th>\n",
       "      <td>0</td>\n",
       "      <td>1</td>\n",
       "      <td>2</td>\n",
       "      <td>What is the step by step guide to invest in sh...</td>\n",
       "      <td>What is the step by step guide to invest in sh...</td>\n",
       "      <td>0</td>\n",
       "    </tr>\n",
       "    <tr>\n",
       "      <th>1</th>\n",
       "      <td>1</td>\n",
       "      <td>3</td>\n",
       "      <td>4</td>\n",
       "      <td>What is the story of Kohinoor (Koh-i-Noor) Dia...</td>\n",
       "      <td>What would happen if the Indian government sto...</td>\n",
       "      <td>0</td>\n",
       "    </tr>\n",
       "    <tr>\n",
       "      <th>2</th>\n",
       "      <td>2</td>\n",
       "      <td>5</td>\n",
       "      <td>6</td>\n",
       "      <td>How can I increase the speed of my internet co...</td>\n",
       "      <td>How can Internet speed be increased by hacking...</td>\n",
       "      <td>0</td>\n",
       "    </tr>\n",
       "    <tr>\n",
       "      <th>3</th>\n",
       "      <td>3</td>\n",
       "      <td>7</td>\n",
       "      <td>8</td>\n",
       "      <td>Why am I mentally very lonely? How can I solve...</td>\n",
       "      <td>Find the remainder when [math]23^{24}[/math] i...</td>\n",
       "      <td>0</td>\n",
       "    </tr>\n",
       "    <tr>\n",
       "      <th>4</th>\n",
       "      <td>4</td>\n",
       "      <td>9</td>\n",
       "      <td>10</td>\n",
       "      <td>Which one dissolve in water quikly sugar, salt...</td>\n",
       "      <td>Which fish would survive in salt water?</td>\n",
       "      <td>0</td>\n",
       "    </tr>\n",
       "  </tbody>\n",
       "</table>\n",
       "</div>"
      ],
      "text/plain": [
       "   id  qid1  qid2                                          question1  \\\n",
       "0   0     1     2  What is the step by step guide to invest in sh...   \n",
       "1   1     3     4  What is the story of Kohinoor (Koh-i-Noor) Dia...   \n",
       "2   2     5     6  How can I increase the speed of my internet co...   \n",
       "3   3     7     8  Why am I mentally very lonely? How can I solve...   \n",
       "4   4     9    10  Which one dissolve in water quikly sugar, salt...   \n",
       "\n",
       "                                           question2  is_duplicate  \n",
       "0  What is the step by step guide to invest in sh...             0  \n",
       "1  What would happen if the Indian government sto...             0  \n",
       "2  How can Internet speed be increased by hacking...             0  \n",
       "3  Find the remainder when [math]23^{24}[/math] i...             0  \n",
       "4            Which fish would survive in salt water?             0  "
      ]
     },
     "execution_count": 3,
     "metadata": {},
     "output_type": "execute_result"
    }
   ],
   "source": [
    "df = pd.read_csv(\"quora_duplicate_questions.csv\")\n",
    "df.head() "
   ]
  },
  {
   "cell_type": "code",
   "execution_count": 4,
   "metadata": {},
   "outputs": [
    {
     "name": "stdout",
     "output_type": "stream",
     "text": [
      "<class 'pandas.core.frame.DataFrame'>\n",
      "RangeIndex: 404290 entries, 0 to 404289\n",
      "Data columns (total 6 columns):\n",
      "id              404290 non-null int64\n",
      "qid1            404290 non-null int64\n",
      "qid2            404290 non-null int64\n",
      "question1       404290 non-null object\n",
      "question2       404288 non-null object\n",
      "is_duplicate    404290 non-null int64\n",
      "dtypes: int64(4), object(2)\n",
      "memory usage: 18.5+ MB\n"
     ]
    }
   ],
   "source": [
    "df.info()"
   ]
  },
  {
   "cell_type": "code",
   "execution_count": 5,
   "metadata": {},
   "outputs": [
    {
     "data": {
      "text/plain": [
       "(404290, 6)"
      ]
     },
     "execution_count": 5,
     "metadata": {},
     "output_type": "execute_result"
    }
   ],
   "source": [
    "df.shape"
   ]
  },
  {
   "cell_type": "code",
   "execution_count": 7,
   "metadata": {},
   "outputs": [
    {
     "data": {
      "image/png": "[encoded data removed]",
      "text/plain": [
       "<matplotlib.figure.Figure at 0x623af98>"
      ]
     },
     "metadata": {},
     "output_type": "display_data"
    }
   ],
   "source": [
    "df.groupby(\"is_duplicate\")['id'].count().plot.bar()\n",
    "plt.show()"
   ]
  },
  {
   "cell_type": "code",
   "execution_count": 50,
   "metadata": {},
   "outputs": [
    {
     "name": "stdout",
     "output_type": "stream",
     "text": [
      "Total question pairs:404290\n",
      "Duplicate pairs:36.92%\n",
      "Total no. of unique questions in dataset:537933\n",
      "No. of questions that appear multiple times: 111780\n"
     ]
    }
   ],
   "source": [
    "print('Total question pairs:{}'.format(len(df)))\n",
    "print(\"Duplicate pairs:%.2f%%\" % (df['is_duplicate'].mean()*100))\n",
    "print('Total no. of unique questions in dataset:{}'.format(len(np.unique(qid))))\n",
    "print('No. of questions that appear multiple times: {}'.format(np.sum(qid.value_counts()>1)))"
   ]
  },
  {
   "cell_type": "code",
   "execution_count": 21,
   "metadata": {},
   "outputs": [
    {
     "data": {
      "text/plain": [
       "36.9197853026293"
      ]
     },
     "execution_count": 21,
     "metadata": {},
     "output_type": "execute_result"
    }
   ],
   "source": [
    "df['is_duplicate'].mean()*100"
   ]
  },
  {
   "cell_type": "code",
   "execution_count": 37,
   "metadata": {},
   "outputs": [],
   "source": [
    "qid=pd.Series(df['qid1'].tolist()+df['qid2'].tolist())"
   ]
  },
  {
   "cell_type": "code",
   "execution_count": 38,
   "metadata": {},
   "outputs": [
    {
     "data": {
      "text/plain": [
       "537933"
      ]
     },
     "execution_count": 38,
     "metadata": {},
     "output_type": "execute_result"
    }
   ],
   "source": [
    "len(np.unique(qid))"
   ]
  },
  {
   "cell_type": "code",
   "execution_count": 40,
   "metadata": {},
   "outputs": [
    {
     "name": "stdout",
     "output_type": "stream",
     "text": [
      "Total no. of unique questions in dataset:537933\n"
     ]
    }
   ],
   "source": [
    "print('Total no. of unique questions in dataset:{}'.format(len(np.unique(qid))))"
   ]
  },
  {
   "cell_type": "code",
   "execution_count": 49,
   "metadata": {},
   "outputs": [
    {
     "name": "stdout",
     "output_type": "stream",
     "text": [
      "No. of questions that appear multiple times: 111780\n"
     ]
    }
   ],
   "source": [
    "print('No. of questions that appear multiple times: {}'.format(np.sum(qid.value_counts()>1)))"
   ]
  },
  {
   "cell_type": "code",
   "execution_count": null,
   "metadata": {},
   "outputs": [],
   "source": []
  },
  {
   "cell_type": "code",
   "execution_count": null,
   "metadata": {},
   "outputs": [],
   "source": []
  },
  {
   "cell_type": "code",
   "execution_count": 62,
   "metadata": {},
   "outputs": [
    {
     "data": {
      "image/png": "[encoded data removed]",
      "text/plain": [
       "<matplotlib.figure.Figure at 0xef80550>"
      ]
     },
     "metadata": {},
     "output_type": "display_data"
    }
   ],
   "source": [
    "plt.figure(figsize=(12, 5))\n",
    "plt.hist(qid.value_counts(), bins=50)\n",
    "plt.yscale('log', nonposy='clip')\n",
    "plt.title('Log-Histogram count of question appearance')\n",
    "plt.xlabel('No. of occurences of question')\n",
    "plt.ylabel('No. of questions')\n",
    "plt.show()"
   ]
  },
  {
   "cell_type": "code",
   "execution_count": 74,
   "metadata": {
    "collapsed": true
   },
   "outputs": [],
   "source": [
    "from sklearn.model_selection import train_test_split\n",
    "\n",
    "train_data_raw, test_data_raw = train_test_split(df, test_size=0.2)"
   ]
  },
  {
   "cell_type": "code",
   "execution_count": 73,
   "metadata": {},
   "outputs": [],
   "source": [
    "#Function to calculate normalized word share between two questions\n",
    "def word_share_norm(x):\n",
    "    w1 = set(map(lambda word: word.lower().strip(), str(x['question1']).split(\" \")))\n",
    "    w2 = set(map(lambda word: word.lower().strip(), str(x['question2']).split(\" \")))    \n",
    "    return 1.0 * len(w1 & w2)/(len(w1) + len(w2))"
   ]
  },
  {
   "cell_type": "code",
   "execution_count": 77,
   "metadata": {},
   "outputs": [
    {
     "name": "stdout",
     "output_type": "stream",
     "text": [
      "Most common words:  [('the', 3.2706887416352137e-06), ('what', 3.9384188823554895e-06), ('is', 4.539305849349517e-06), ('how', 5.555246930726071e-06), ('i', 5.707111060381235e-06), ('a', 5.762061435099021e-06), ('to', 5.955890673670794e-06), ('in', 6.22610731318565e-06), ('of', 7.581558616820446e-06), ('do', 7.773269281594452e-06)]\n"
     ]
    }
   ],
   "source": [
    "#Combine all questions into corpus for analysis similar to Term-frequency in TFIDF\n",
    "train_questions = pd.Series(train_data_raw['question1'].tolist() + train_data_raw['question2'].tolist()).astype(str)\n",
    "test_questions = pd.Series(test_data_raw['question1'].tolist() + test_data_raw['question2'].tolist()).astype(str)\n",
    "#Implement TFIDF function\n",
    "def get_weight(count, eps=5000, min_count=2):\n",
    "    if count < min_count:\n",
    "        return 0 #remove words only appearing once \n",
    "    else:\n",
    "        R = 1.0 / (count + eps)\n",
    "        return R\n",
    "\n",
    "eps = 5000 \n",
    "words = (\" \".join(train_questions)).lower().split()\n",
    "counts = Counter(words)\n",
    "weights = {word: get_weight(count) for word, count in counts.items()}\n",
    "print \"Most common words: \", (sorted(weights.items(), key=lambda x: x[1] if x[1] > 0 else 9999)[:10])"
   ]
  },
  {
   "cell_type": "code",
   "execution_count": 78,
   "metadata": {},
   "outputs": [],
   "source": [
    "#Calculate TFIDF word match share as our new feature\n",
    "def tfidf_word_share_norm(x):\n",
    "    w1 = set(map(lambda word: word.lower().strip(), str(x['question1']).split(\" \")))\n",
    "    w2 = set(map(lambda word: word.lower().strip(), str(x['question2']).split(\" \"))) \n",
    "    if len(w1)==0 or len(w2)==0:\n",
    "        return 0\n",
    "    common = w1 & w2\n",
    "    share_weight = [weights.get(word, 0) for word in common]\n",
    "    total_weight = [weights.get(word, 0) for word in w1]+[weights.get(word, 0) for word in w2]\n",
    "    return np.sum(share_weight)/np.sum(total_weight)"
   ]
  },
  {
   "cell_type": "code",
   "execution_count": 79,
   "metadata": {},
   "outputs": [
    {
     "data": {
      "text/html": [
       "<div>\n",
       "<style>\n",
       "    .dataframe thead tr:only-child th {\n",
       "        text-align: right;\n",
       "    }\n",
       "\n",
       "    .dataframe thead th {\n",
       "        text-align: left;\n",
       "    }\n",
       "\n",
       "    .dataframe tbody tr th {\n",
       "        vertical-align: top;\n",
       "    }\n",
       "</style>\n",
       "<table border=\"1\" class=\"dataframe\">\n",
       "  <thead>\n",
       "    <tr style=\"text-align: right;\">\n",
       "      <th></th>\n",
       "      <th>q1chrlen</th>\n",
       "      <th>q2chrlen</th>\n",
       "      <th>q1_nword</th>\n",
       "      <th>q2_nword</th>\n",
       "      <th>word_share</th>\n",
       "      <th>TFIDF_share</th>\n",
       "    </tr>\n",
       "  </thead>\n",
       "  <tbody>\n",
       "    <tr>\n",
       "      <th>77467</th>\n",
       "      <td>57</td>\n",
       "      <td>45.0</td>\n",
       "      <td>9</td>\n",
       "      <td>7</td>\n",
       "      <td>0.187500</td>\n",
       "      <td>0.234044</td>\n",
       "    </tr>\n",
       "    <tr>\n",
       "      <th>169198</th>\n",
       "      <td>41</td>\n",
       "      <td>25.0</td>\n",
       "      <td>8</td>\n",
       "      <td>4</td>\n",
       "      <td>0.363636</td>\n",
       "      <td>0.433014</td>\n",
       "    </tr>\n",
       "    <tr>\n",
       "      <th>186450</th>\n",
       "      <td>28</td>\n",
       "      <td>29.0</td>\n",
       "      <td>7</td>\n",
       "      <td>7</td>\n",
       "      <td>0.285714</td>\n",
       "      <td>0.225292</td>\n",
       "    </tr>\n",
       "    <tr>\n",
       "      <th>389216</th>\n",
       "      <td>32</td>\n",
       "      <td>34.0</td>\n",
       "      <td>6</td>\n",
       "      <td>7</td>\n",
       "      <td>0.307692</td>\n",
       "      <td>0.261585</td>\n",
       "    </tr>\n",
       "    <tr>\n",
       "      <th>356832</th>\n",
       "      <td>70</td>\n",
       "      <td>66.0</td>\n",
       "      <td>12</td>\n",
       "      <td>12</td>\n",
       "      <td>0.000000</td>\n",
       "      <td>0.000000</td>\n",
       "    </tr>\n",
       "  </tbody>\n",
       "</table>\n",
       "</div>"
      ],
      "text/plain": [
       "        q1chrlen  q2chrlen  q1_nword  q2_nword  word_share  TFIDF_share\n",
       "77467         57      45.0         9         7    0.187500     0.234044\n",
       "169198        41      25.0         8         4    0.363636     0.433014\n",
       "186450        28      29.0         7         7    0.285714     0.225292\n",
       "389216        32      34.0         6         7    0.307692     0.261585\n",
       "356832        70      66.0        12        12    0.000000     0.000000"
      ]
     },
     "execution_count": 79,
     "metadata": {},
     "output_type": "execute_result"
    }
   ],
   "source": [
    "#Construct features for training data: character length, number of words, normalized word share \n",
    "train_data = pd.DataFrame(dtype='float64')\n",
    "train_data['q1chrlen'] = train_data_raw['question1'].str.len()\n",
    "train_data['q2chrlen'] = train_data_raw['question2'].str.len()\n",
    "train_data['q1_nword'] = train_data_raw['question1'].apply(lambda x: len(str(x).split(\" \")))\n",
    "train_data['q2_nword'] = train_data_raw['question2'].apply(lambda y: len(str(y).split(\" \")))\n",
    "train_data['word_share'] = train_data_raw.apply(word_share_norm, axis=1)\n",
    "train_data['TFIDF_share'] = train_data_raw.apply(tfidf_word_share_norm, axis=1, raw=True)\n",
    "train_data.head()"
   ]
  },
  {
   "cell_type": "code",
   "execution_count": 80,
   "metadata": {},
   "outputs": [
    {
     "data": {
      "text/html": [
       "<div>\n",
       "<style>\n",
       "    .dataframe thead tr:only-child th {\n",
       "        text-align: right;\n",
       "    }\n",
       "\n",
       "    .dataframe thead th {\n",
       "        text-align: left;\n",
       "    }\n",
       "\n",
       "    .dataframe tbody tr th {\n",
       "        vertical-align: top;\n",
       "    }\n",
       "</style>\n",
       "<table border=\"1\" class=\"dataframe\">\n",
       "  <thead>\n",
       "    <tr style=\"text-align: right;\">\n",
       "      <th></th>\n",
       "      <th>q1chrlen</th>\n",
       "      <th>q2chrlen</th>\n",
       "      <th>q1_nword</th>\n",
       "      <th>q2_nword</th>\n",
       "      <th>word_share</th>\n",
       "      <th>TFIDF_share</th>\n",
       "    </tr>\n",
       "  </thead>\n",
       "  <tbody>\n",
       "    <tr>\n",
       "      <th>77467</th>\n",
       "      <td>57</td>\n",
       "      <td>45.0</td>\n",
       "      <td>9</td>\n",
       "      <td>7</td>\n",
       "      <td>0.187500</td>\n",
       "      <td>0.234044</td>\n",
       "    </tr>\n",
       "    <tr>\n",
       "      <th>169198</th>\n",
       "      <td>41</td>\n",
       "      <td>25.0</td>\n",
       "      <td>8</td>\n",
       "      <td>4</td>\n",
       "      <td>0.363636</td>\n",
       "      <td>0.433014</td>\n",
       "    </tr>\n",
       "    <tr>\n",
       "      <th>186450</th>\n",
       "      <td>28</td>\n",
       "      <td>29.0</td>\n",
       "      <td>7</td>\n",
       "      <td>7</td>\n",
       "      <td>0.285714</td>\n",
       "      <td>0.225292</td>\n",
       "    </tr>\n",
       "    <tr>\n",
       "      <th>389216</th>\n",
       "      <td>32</td>\n",
       "      <td>34.0</td>\n",
       "      <td>6</td>\n",
       "      <td>7</td>\n",
       "      <td>0.307692</td>\n",
       "      <td>0.261585</td>\n",
       "    </tr>\n",
       "    <tr>\n",
       "      <th>356832</th>\n",
       "      <td>70</td>\n",
       "      <td>66.0</td>\n",
       "      <td>12</td>\n",
       "      <td>12</td>\n",
       "      <td>0.000000</td>\n",
       "      <td>0.000000</td>\n",
       "    </tr>\n",
       "  </tbody>\n",
       "</table>\n",
       "</div>"
      ],
      "text/plain": [
       "        q1chrlen  q2chrlen  q1_nword  q2_nword  word_share  TFIDF_share\n",
       "77467         57      45.0         9         7    0.187500     0.234044\n",
       "169198        41      25.0         8         4    0.363636     0.433014\n",
       "186450        28      29.0         7         7    0.285714     0.225292\n",
       "389216        32      34.0         6         7    0.307692     0.261585\n",
       "356832        70      66.0        12        12    0.000000     0.000000"
      ]
     },
     "execution_count": 80,
     "metadata": {},
     "output_type": "execute_result"
    }
   ],
   "source": [
    "train_data.head()"
   ]
  },
  {
   "cell_type": "code",
   "execution_count": 81,
   "metadata": {},
   "outputs": [
    {
     "data": {
      "text/plain": [
       "q1chrlen       0\n",
       "q2chrlen       0\n",
       "q1_nword       0\n",
       "q2_nword       0\n",
       "word_share     0\n",
       "TFIDF_share    0\n",
       "dtype: int64"
      ]
     },
     "execution_count": 81,
     "metadata": {},
     "output_type": "execute_result"
    }
   ],
   "source": [
    "#Check if there's NaN values in the data. If yes, replace them.\n",
    "np.sum(np.isnan(train_data))\n",
    "train_data.loc[:,'q2chrlen'] = np.nan_to_num(train_data.loc[:,'q2chrlen'])\n",
    "np.sum(np.isnan(train_data))"
   ]
  },
  {
   "cell_type": "code",
   "execution_count": 82,
   "metadata": {},
   "outputs": [
    {
     "data": {
      "text/plain": [
       "q1chrlen       0\n",
       "q2chrlen       0\n",
       "q1_nword       0\n",
       "q2_nword       0\n",
       "word_share     0\n",
       "TFIDF_share    0\n",
       "dtype: int64"
      ]
     },
     "execution_count": 82,
     "metadata": {},
     "output_type": "execute_result"
    }
   ],
   "source": [
    "#Process test data to have the same features as training data\n",
    "test_data = pd.DataFrame()\n",
    "test_data['q1chrlen'] = test_data_raw['question1'].str.len()\n",
    "test_data['q2chrlen'] = test_data_raw['question2'].str.len()\n",
    "test_data['q1_nword'] = test_data_raw['question1'].apply(lambda x: len(str(x).split(\" \")))\n",
    "test_data['q2_nword'] = test_data_raw['question2'].apply(lambda y: len(str(y).split(\" \")))\n",
    "test_data['word_share'] = test_data_raw.apply(word_share_norm, axis=1)\n",
    "test_data['TFIDF_share'] = test_data_raw.apply(tfidf_word_share_norm, axis=1, raw=True)\n",
    "#Replace NaN if any\n",
    "np.sum(np.isnan(test_data))\n",
    "test_data.loc[:,['q1chrlen','q2chrlen']] = np.nan_to_num(test_data.loc[:,['q1chrlen','q2chrlen']])\n",
    "np.sum(np.isnan(test_data))"
   ]
  },
  {
   "cell_type": "code",
   "execution_count": 84,
   "metadata": {},
   "outputs": [
    {
     "data": {
      "image/png": "[encoded data removed]",
      "text/plain": [
       "<matplotlib.figure.Figure at 0x1f0efda0>"
      ]
     },
     "metadata": {},
     "output_type": "display_data"
    }
   ],
   "source": [
    "\n",
    "#Get some visual on character count#Get so \n",
    "plt.figure(figsize=(12, 8))\n",
    "plt.hist(train_data['q1chrlen'], bins=200, range=[0, 200], color='blue', normed=True, label='Q1')\n",
    "plt.hist(train_data['q2chrlen'], bins=200, range=[0, 200], color='red',alpha = 0.5, normed=True, label='Q2')\n",
    "plt.title('Normalised histogram of character count in questions', fontsize=15)\n",
    "plt.legend()\n",
    "plt.xlabel('Number of characters', fontsize=15)\n",
    "plt.ylabel('Probability', fontsize=15)\n",
    "plt.show()"
   ]
  },
  {
   "cell_type": "code",
   "execution_count": 85,
   "metadata": {},
   "outputs": [
    {
     "data": {
      "image/png": "[encoded data removed]",
      "text/plain": [
       "<matplotlib.figure.Figure at 0x20f8d898>"
      ]
     },
     "metadata": {},
     "output_type": "display_data"
    }
   ],
   "source": [
    "#Get some visual on word count\n",
    "plt.figure(figsize=(12, 8))\n",
    "plt.hist(train_data['q1_nword'], bins=np.linspace(0, 70, 70), range=[0, 70], normed = True, color='blue', label='Q1')\n",
    "plt.hist(train_data['q2_nword'], bins=np.linspace(0, 70, 70), range=[0, 70], normed = True, color='red',alpha = 0.5, label='Q2')\n",
    "plt.title('Normalized histogram of word count in questions', fontsize=15)\n",
    "plt.legend()\n",
    "plt.xlabel('Number of words', fontsize=15)\n",
    "plt.ylabel('Probability', fontsize=15)\n",
    "plt.show()"
   ]
  },
  {
   "cell_type": "code",
   "execution_count": 91,
   "metadata": {},
   "outputs": [
    {
     "data": {
      "image/png": "[encoded data removed]",
      "text/plain": [
       "<matplotlib.figure.Figure at 0x208fb0f0>"
      ]
     },
     "metadata": {},
     "output_type": "display_data"
    }
   ],
   "source": [
    "#Get some visual on word share\n",
    "plt.figure(figsize=(15, 5))\n",
    "train_word_share = train_data['word_share']\n",
    "plt.hist(train_word_share[train_data_raw['is_duplicate'] == 0], bins=30, normed=True, label='Not Duplicate')\n",
    "plt.hist(train_word_share[train_data_raw['is_duplicate'] == 1], bins=30, normed=True, alpha=0.5, label='Duplicate')\n",
    "plt.legend()\n",
    "plt.title('Label distribution over word_share_ratio', fontsize=15)\n",
    "plt.xlabel('word_share_ratio', fontsize=15)\n",
    "plt.show()"
   ]
  },
  {
   "cell_type": "code",
   "execution_count": 94,
   "metadata": {},
   "outputs": [
    {
     "data": {
      "image/png": "[encoded data removed]",
      "text/plain": [
       "<matplotlib.figure.Figure at 0x21c8f390>"
      ]
     },
     "metadata": {},
     "output_type": "display_data"
    }
   ],
   "source": [
    "#Get some visual on TFIDF word share\n",
    "plt.figure(figsize=(15, 5))\n",
    "train_tfidf = train_data['TFIDF_share'].fillna(0)\n",
    "plt.hist(train_tfidf[train_data_raw['is_duplicate'] == 0], bins=20, normed=True, label='Not Duplicate')\n",
    "plt.hist(train_tfidf[train_data_raw['is_duplicate'] == 1], bins=20, normed=True, alpha=0.5, label='Duplicate')\n",
    "plt.legend()\n",
    "plt.title('..', fontsize=15)\n",
    "plt.xlabel('TFIDF_share', fontsize=15)\n",
    "plt.show()"
   ]
  },
  {
   "cell_type": "code",
   "execution_count": null,
   "metadata": {
    "collapsed": true
   },
   "outputs": [],
   "source": []
  }
 ],
 "metadata": {
  "kernelspec": {
   "display_name": "Python 2",
   "language": "python",
   "name": "python2"
  },
  "language_info": {
   "codemirror_mode": {
    "name": "ipython",
    "version": 2
   },
   "file_extension": ".py",
   "mimetype": "text/x-python",
   "name": "python",
   "nbconvert_exporter": "python",
   "pygments_lexer": "ipython2",
   "version": "2.7.14"
  }
 },
 "nbformat": 4,
 "nbformat_minor": 2
}
